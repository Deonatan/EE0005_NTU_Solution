{
 "cells": [
  {
   "cell_type": "code",
   "execution_count": 10,
   "metadata": {},
   "outputs": [
    {
     "name": "stdout",
     "output_type": "stream",
     "text": [
      "{'', 'd.vader@empire.net', 'captainhook@neverland.com', 'alice@wonderland.co.ukasdaasf', 'alice@wonderland.co.uk', 'cleopatra@pharaoh.org'}\n"
     ]
    }
   ],
   "source": [
    "blockfile = 'blocklist.txt'\n",
    "try:\n",
    "    f = open(blockfile)\n",
    "except FileNotFoundError:\n",
    "    print(blockfile+' does not exist.')\n",
    "blocklist = set(f.read().split('\\n'))\n",
    "print(blocklist)"
   ]
  },
  {
   "cell_type": "code",
   "execution_count": 11,
   "metadata": {},
   "outputs": [
    {
     "name": "stdout",
     "output_type": "stream",
     "text": [
      "Users currently in blocklist: \n",
      "d.vader@empire.net\n",
      "captainhook@neverland.com\n",
      "alice@wonderland.co.ukasdaasf\n",
      "alice@wonderland.co.uk\n",
      "cleopatra@pharaoh.org\n"
     ]
    }
   ],
   "source": [
    "f.close() \n",
    "blocklist.remove('')\n",
    "print('Users currently in blocklist: ')\n",
    "for username in blocklist: \n",
    "    print(username)"
   ]
  },
  {
   "cell_type": "code",
   "execution_count": 17,
   "metadata": {},
   "outputs": [
    {
     "name": "stdout",
     "output_type": "stream",
     "text": [
      "{'mcurie@radium.com', 'brucelee@fistoffury.com', 'd.vader@empire.net', 'alice@wonderland.co.uk', 'nero@rome.com', 'usain.bolt@runnersclub.org'}\n"
     ]
    }
   ],
   "source": [
    "visitorFile = 'visitors.txt'\n",
    "try: \n",
    "    f = open(visitorFile)\n",
    "except FileNotFoundError: \n",
    "    print(visitorFile + 'does not exist!')\n",
    "visitorList = set(f.read().split('\\n'))\n",
    "print(visitorList)"
   ]
  },
  {
   "cell_type": "code",
   "execution_count": 19,
   "metadata": {},
   "outputs": [
    {
     "name": "stdout",
     "output_type": "stream",
     "text": [
      "number of visitors:  6\n",
      "d.vader@empire.net\n",
      "alice@wonderland.co.uk\n"
     ]
    }
   ],
   "source": [
    "f.close()\n",
    "print('number of visitors: ' , len(visitorList))\n",
    "for visitor in visitorList: \n",
    "    if visitor in blocklist: \n",
    "        print(visitor)"
   ]
  },
  {
   "cell_type": "code",
   "execution_count": 21,
   "metadata": {},
   "outputs": [
    {
     "name": "stdout",
     "output_type": "stream",
     "text": [
      "Add offender username to the data list and press Q to quit\n",
      "deonatan@gmail.com \n",
      "dnatan@gmail.com \n",
      "Q\n",
      "{'dnatan@gmail.com ', 'deonatan@gmail.com '}\n"
     ]
    }
   ],
   "source": [
    "offenders = set()\n",
    "print(\"Add offender username to the data list and press Q to quit\")\n",
    "while True: \n",
    "    newOffender = input()\n",
    "    if newOffender.upper() == 'Q': \n",
    "        break \n",
    "    else: \n",
    "        offenders.add(newOffender)\n",
    "print(offenders)"
   ]
  },
  {
   "cell_type": "code",
   "execution_count": 23,
   "metadata": {},
   "outputs": [
    {
     "name": "stdout",
     "output_type": "stream",
     "text": [
      "\n",
      " Users added to blocklist \n",
      "dnatan@gmail.com \n",
      "deonatan@gmail.com \n"
     ]
    }
   ],
   "source": [
    "f = open(blockfile, 'a')\n",
    "print('\\n Users added to blocklist ')\n",
    "for userName in offenders: \n",
    "    f.write(userName+'\\n')\n",
    "    print(userName)\n",
    "f.close()"
   ]
  },
  {
   "cell_type": "code",
   "execution_count": null,
   "metadata": {},
   "outputs": [],
   "source": []
  }
 ],
 "metadata": {
  "kernelspec": {
   "display_name": "Python 3",
   "language": "python",
   "name": "python3"
  },
  "language_info": {
   "codemirror_mode": {
    "name": "ipython",
    "version": 3
   },
   "file_extension": ".py",
   "mimetype": "text/x-python",
   "name": "python",
   "nbconvert_exporter": "python",
   "pygments_lexer": "ipython3",
   "version": "3.8.5"
  }
 },
 "nbformat": 4,
 "nbformat_minor": 4
}
